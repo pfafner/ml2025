{
 "cells": [
  {
   "cell_type": "markdown",
   "metadata": {},
   "source": [
    "# <center> **Probability Plots** </center>\n",
    "## <font size=4> **Elements of Machine Learning 2025** </font> <font color=gray size=4> -- Alan Reyes-Figueroa </font>"
   ]
  },
  {
   "cell_type": "code",
   "execution_count": null,
   "metadata": {},
   "outputs": [],
   "source": [
    "import numpy as np\n",
    "import scipy.stats as sps\n",
    "from scipy.signal import correlate\n",
    "\n",
    "import statsmodels.api as st\n",
    "import matplotlib.pyplot as plt\n",
    "import seaborn as sns\n",
    "#import pylab as pl\n",
    "\n",
    "from warnings import filterwarnings\n",
    "filterwarnings('ignore')"
   ]
  },
  {
   "cell_type": "code",
   "execution_count": null,
   "metadata": {},
   "outputs": [],
   "source": []
  },
  {
   "cell_type": "markdown",
   "metadata": {},
   "source": [
    "# Probability-Plots"
   ]
  },
  {
   "cell_type": "code",
   "execution_count": null,
   "metadata": {},
   "outputs": [],
   "source": [
    "data = np.random.normal(loc=20, scale=3.5, size=5000)"
   ]
  },
  {
   "cell_type": "code",
   "execution_count": null,
   "metadata": {},
   "outputs": [],
   "source": [
    "plt.figure(figsize=(4,4))\n",
    "sps.probplot(data, dist='norm', plot=plt)\n",
    "plt.show()"
   ]
  },
  {
   "cell_type": "code",
   "execution_count": null,
   "metadata": {},
   "outputs": [],
   "source": []
  },
  {
   "cell_type": "code",
   "execution_count": null,
   "metadata": {},
   "outputs": [],
   "source": [
    "data = np.random.normal(loc=20, scale=3.5, size=5000)"
   ]
  },
  {
   "cell_type": "code",
   "execution_count": null,
   "metadata": {},
   "outputs": [],
   "source": [
    "plt.figure(figsize=(4,4))\n",
    "sps.probplot(data, sparams=(20, 3.5), dist='t', plot=plt)\n",
    "plt.show()"
   ]
  },
  {
   "cell_type": "code",
   "execution_count": null,
   "metadata": {},
   "outputs": [],
   "source": []
  },
  {
   "cell_type": "code",
   "execution_count": null,
   "metadata": {},
   "outputs": [],
   "source": [
    "#data2 = np.random.beta(1., 2., size=5000)\n",
    "data2 = np.random.beta(2., 1., size=5000)"
   ]
  },
  {
   "cell_type": "code",
   "execution_count": null,
   "metadata": {},
   "outputs": [],
   "source": [
    "plt.figure(figsize=(4,4))\n",
    "sps.probplot(data2, sparams=(1., 2.), dist='beta', plot=plt)\n",
    "plt.show()"
   ]
  },
  {
   "cell_type": "code",
   "execution_count": null,
   "metadata": {},
   "outputs": [],
   "source": []
  },
  {
   "cell_type": "markdown",
   "metadata": {},
   "source": [
    "# Set de Gráficas"
   ]
  },
  {
   "cell_type": "code",
   "execution_count": null,
   "metadata": {},
   "outputs": [],
   "source": [
    "data1 = np.random.beta(1.0, 1.5, size=5000)\n",
    "data2 = np.random.beta(1.5, 1.0, size=5000)"
   ]
  },
  {
   "cell_type": "code",
   "execution_count": null,
   "metadata": {},
   "outputs": [],
   "source": []
  },
  {
   "cell_type": "code",
   "execution_count": null,
   "metadata": {},
   "outputs": [],
   "source": [
    "def ecdf(a):\n",
    "    x, counts = np.unique(a, return_counts=True)\n",
    "    cusum = np.cumsum(counts)\n",
    "    return x, cusum / cusum[-1]"
   ]
  },
  {
   "cell_type": "code",
   "execution_count": null,
   "metadata": {},
   "outputs": [],
   "source": [
    "def compare_dist(d1, d2, size=1000):\n",
    "    data1 = d1.rvs(size=size)\n",
    "    data2 = d2.rvs(size=size)\n",
    "    \n",
    "    x1, y1 = ecdf(data1)\n",
    "    x1 = np.insert(x1, 0, x1[0])\n",
    "    y1 = np.insert(y1, 0, 0.)\n",
    "    x2, y2 = ecdf(data2)\n",
    "    x2 = np.insert(x2, 0, x2[0])\n",
    "    y2 = np.insert(y2, 0, 0.)\n",
    "   \n",
    "    plt.figure(figsize=(10, 10))\n",
    "    \n",
    "    # Density Functions DF\n",
    "    plt.subplot(2,2,1)\n",
    "    sns.kdeplot(data1, bw_method=0.5, label='dist1')\n",
    "    sns.kdeplot(data2, bw_method=0.5, label='dist2')\n",
    "    plt.title('Density Plot')\n",
    "    \n",
    "    # Distribution Functions CDF\n",
    "    plt.subplot(2,2,2)\n",
    "    plt.plot(x1, y1, drawstyle='steps-post')\n",
    "    plt.plot(x2, y2, drawstyle='steps-post')\n",
    "    plt.grid(True)\n",
    "    plt.title('CDF Plot')\n",
    "    \n",
    "    # QQ-plot\n",
    "    plt.subplot(2,2,3)\n",
    "    qqs = np.linspace(0., 1., 1001)[:-1]\n",
    "    qq1 = np.quantile(data1, qqs)\n",
    "    qq2 = np.quantile(data2, qqs)\n",
    "    minq = min(qq1.min(), qq2.min())\n",
    "    maxq = max(qq1.max(), qq2.max())\n",
    "    plt.plot([minq,maxq], [minq,maxq], 'r-', lw=2)\n",
    "    plt.plot(qq1, qq2, 'b.', drawstyle='steps-post')\n",
    "    plt.grid(True)\n",
    "    plt.title('QQ-Plot')\n",
    "    plt.xlabel('Dist1 Quantiles')\n",
    "    plt.ylabel('Dist2 Quantiles') \n",
    "    \n",
    "    # PP-plot\n",
    "    plt.subplot(2,2,4)\n",
    "    #sps.probplot(data1, dist=d2, plot=plt)\n",
    "    minp = min(x1.min(), x2.min())\n",
    "    maxp = max(x1.max(), x2.max())\n",
    "    plt.plot([minp,maxp], [minp,maxp], 'r-', lw=2)\n",
    "    plt.plot(x1, x2, 'b.', drawstyle='steps-post')\n",
    "    plt.grid(True)\n",
    "    plt.title('Probabillity Plot')\n",
    "    plt.xlabel('Dist1 Probabilities')\n",
    "    plt.ylabel('Dist2 Probabilities') \n",
    "\n",
    "    plt.show()\n",
    "    return data1, data2"
   ]
  },
  {
   "cell_type": "code",
   "execution_count": null,
   "metadata": {},
   "outputs": [],
   "source": []
  },
  {
   "cell_type": "code",
   "execution_count": null,
   "metadata": {},
   "outputs": [],
   "source": [
    "d1 = sps.norm(loc=0., scale=3.)\n",
    "d2 = sps.norm(loc=10., scale=5.)"
   ]
  },
  {
   "cell_type": "code",
   "execution_count": null,
   "metadata": {},
   "outputs": [],
   "source": [
    "#d1 = sps.norm(loc=5., scale=6.)\n",
    "#d2 = sps.norm(loc=6., scale=5.)"
   ]
  },
  {
   "cell_type": "code",
   "execution_count": null,
   "metadata": {},
   "outputs": [],
   "source": [
    "#d1 = sps.beta(2., 1.)\n",
    "#d2 = sps.beta(1., 2.)"
   ]
  },
  {
   "cell_type": "code",
   "execution_count": null,
   "metadata": {},
   "outputs": [],
   "source": [
    "data1, data2 = compare_dist(d1, d2, size=5000)"
   ]
  },
  {
   "cell_type": "code",
   "execution_count": null,
   "metadata": {},
   "outputs": [],
   "source": [
    "def ks_statistics(data1, data2):\n",
    "    h1 = data1.ravel()\n",
    "    h2 = data2.ravel()\n",
    "    N = 1000\n",
    "    \n",
    "    x1, y1 = ecdf(data1)\n",
    "    x1 = np.insert(x1, 0, x1[0])\n",
    "    y1 = np.insert(y1, 0, 0.)\n",
    "    x2, y2 = ecdf(data2)\n",
    "    x2 = np.insert(x2, 0, x2[0])\n",
    "    y2 = np.insert(y2, 0, 0.)\n",
    "   \n",
    "\n",
    "    m = len(h1)\n",
    "    n = len(h2)\n",
    "    hh1 = np.histogram(h1, bins=np.linspace(0, 1, N+1), density=True)\n",
    "    hh2 = np.histogram(h2, bins=np.linspace(0, 1, N+1), density=True)\n",
    "    hy1 = hh1[0].cumsum() / N\n",
    "    hy2 = hh2[0].cumsum() / N\n",
    "    filt = np.ones(15) / 15.\n",
    "    \n",
    "    dens1 = sps.kde.gaussian_kde(data1)\n",
    "    dens2 = sps.kde.gaussian_kde(data2)\n",
    "    \n",
    "    opt = np.argmax(np.abs(hy1-hy2))\n",
    "    ks = np.abs(hy1-hy2)[opt]\n",
    "    cut = opt / N\n",
    "    \n",
    "    minn = min(data1.min(), data2.min())\n",
    "    maxx = max(data1.max(), data2.max())\n",
    "    x = np.linspace(minn, maxx, 1000) \n",
    "    maxz = np.abs(dens1(x) - dens2(x))[100:-100].min()\n",
    "    argz = np.argmin(np.abs(dens1(x) - dens2(x))[100:-100])\n",
    "    hcut = dens1(x)[100 + argz]\n",
    "    dcut = x[100 + argz]\n",
    "    \n",
    "    ksfig = plt.figure(figsize=(10, 4.5))\n",
    "    plt.subplot(1,2,1)\n",
    "    plt.title('KS Distance = {}'.format(ks))\n",
    "    plt.xlabel('Threshold')\n",
    "    plt.plot(hh1[1][1:], hy1, lw=2, label='Dist1')\n",
    "    plt.plot(hh2[1][1:], hy2, lw=2, label='Dist2')\n",
    "    plt.vlines(cut, ymin=0.02, ymax=0.98, color='black', lw=2)\n",
    "    plt.legend()\n",
    "    \n",
    "    plt.subplot(1,2,2)\n",
    "    plt.title('KS Optimal place = {}'.format(cut))\n",
    "    plt.xlabel('Threshold')\n",
    "    plt.plot(x, dens1(x), label='Dist1')\n",
    "    plt.plot(x, dens2(x), label='Dist2')\n",
    "    plt.vlines(dcut, ymin=0., ymax=hcut, color='black', lw=2)\n",
    "    plt.legend()\n",
    "    plt.plot()\n",
    "    return ks, cut, dcut"
   ]
  },
  {
   "cell_type": "code",
   "execution_count": null,
   "metadata": {},
   "outputs": [],
   "source": [
    "ks, cut, dcut = ks_statistics(data1, data2)"
   ]
  },
  {
   "cell_type": "code",
   "execution_count": null,
   "metadata": {},
   "outputs": [],
   "source": []
  },
  {
   "cell_type": "code",
   "execution_count": null,
   "metadata": {},
   "outputs": [],
   "source": [
    "ks"
   ]
  },
  {
   "cell_type": "code",
   "execution_count": null,
   "metadata": {},
   "outputs": [],
   "source": [
    "sps.ks_2samp(data1, data2, alternative='two-sided')"
   ]
  },
  {
   "cell_type": "code",
   "execution_count": null,
   "metadata": {},
   "outputs": [],
   "source": []
  },
  {
   "cell_type": "code",
   "execution_count": null,
   "metadata": {},
   "outputs": [],
   "source": [
    "sps.kstest(data1, data2)"
   ]
  },
  {
   "cell_type": "code",
   "execution_count": null,
   "metadata": {},
   "outputs": [],
   "source": []
  },
  {
   "cell_type": "code",
   "execution_count": null,
   "metadata": {},
   "outputs": [],
   "source": [
    "dens1 = sps.kde.gaussian_kde(data1)\n",
    "dens2 = sps.kde.gaussian_kde(data2)\n",
    "\n",
    "minn = min(data1.min(), data2.min())\n",
    "maxx = max(data1.max(), data2.max())\n",
    "x = np.linspace(minn, maxx, 1000) \n",
    "maxz = np.abs(dens1(x) - dens2(x))[100:-100].min()\n",
    "argz = np.argmin(np.abs(dens1(x) - dens2(x))[100:-100])\n",
    "dcut = x[argz]"
   ]
  },
  {
   "cell_type": "code",
   "execution_count": null,
   "metadata": {},
   "outputs": [],
   "source": [
    "x[100 + argz]"
   ]
  },
  {
   "cell_type": "code",
   "execution_count": null,
   "metadata": {},
   "outputs": [],
   "source": [
    "argz"
   ]
  },
  {
   "cell_type": "code",
   "execution_count": null,
   "metadata": {},
   "outputs": [],
   "source": []
  }
 ],
 "metadata": {
  "kernelspec": {
   "display_name": "Python 3 (ipykernel)",
   "language": "python",
   "name": "python3"
  },
  "language_info": {
   "codemirror_mode": {
    "name": "ipython",
    "version": 3
   },
   "file_extension": ".py",
   "mimetype": "text/x-python",
   "name": "python",
   "nbconvert_exporter": "python",
   "pygments_lexer": "ipython3",
   "version": "3.10.14"
  }
 },
 "nbformat": 4,
 "nbformat_minor": 4
}
