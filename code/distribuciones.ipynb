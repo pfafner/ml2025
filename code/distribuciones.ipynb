{
 "cells": [
  {
   "cell_type": "markdown",
   "id": "0dc13edf-3945-44e6-bc2f-4fea2a359c07",
   "metadata": {},
   "source": [
    "# <center> **Ejemplo de Distribuciones** </center>\n",
    "## <font size=4> **Elements of Machine Learning 2025** </font> <font color=gray size=4> -- Alan Reyes-Figueroa </font>"
   ]
  },
  {
   "cell_type": "code",
   "execution_count": null,
   "id": "42ec9e05-b181-4d46-8fc0-72c1e467d4f3",
   "metadata": {},
   "outputs": [],
   "source": [
    "import pandas as pd\n",
    "import numpy as np\n",
    "import matplotlib.pyplot as plt\n",
    "import seaborn as sns"
   ]
  },
  {
   "cell_type": "markdown",
   "id": "a5c88f76-3bf3-44e7-9442-130764174349",
   "metadata": {},
   "source": [
    "## Read Data"
   ]
  },
  {
   "cell_type": "code",
   "execution_count": null,
   "id": "b177386e-4a23-4a74-aa8c-b1a01dca4489",
   "metadata": {},
   "outputs": [],
   "source": [
    "df = pd.read_csv('data_aula04.csv', header=0, sep=';')\n",
    "df.shape"
   ]
  },
  {
   "cell_type": "code",
   "execution_count": null,
   "id": "bfebbd1a-8d32-41fb-acdc-2b0558502cde",
   "metadata": {},
   "outputs": [],
   "source": [
    "df.columns"
   ]
  },
  {
   "cell_type": "code",
   "execution_count": null,
   "id": "8ac271a1-6125-412d-9c77-fa989288d886",
   "metadata": {},
   "outputs": [],
   "source": [
    "df.describe()"
   ]
  },
  {
   "cell_type": "code",
   "execution_count": null,
   "id": "3ea89d07-7383-4258-98e1-19680e702854",
   "metadata": {},
   "outputs": [],
   "source": [
    "plt.figure()\n",
    "df.boxplot()\n",
    "plt.show()"
   ]
  },
  {
   "cell_type": "code",
   "execution_count": null,
   "id": "adb07e68-c4bf-45d8-b311-3c15adefa103",
   "metadata": {},
   "outputs": [],
   "source": [
    "plt.figure()\n",
    "df.hist()\n",
    "plt.show()"
   ]
  },
  {
   "cell_type": "code",
   "execution_count": null,
   "id": "4ac050d1-b726-47ed-a68f-3720adfd79cb",
   "metadata": {},
   "outputs": [],
   "source": [
    "plt.figure()\n",
    "sns.pairplot(df, diag_kind='kde')\n",
    "plt.show()"
   ]
  },
  {
   "cell_type": "code",
   "execution_count": null,
   "id": "4e45e42d-2498-4da8-967b-eeb336169c7c",
   "metadata": {},
   "outputs": [],
   "source": []
  },
  {
   "cell_type": "code",
   "execution_count": null,
   "id": "7999f9f9-33a2-4d87-a3da-8273bf1ef19c",
   "metadata": {},
   "outputs": [],
   "source": [
    "plt.figure()\n",
    "sns.distplot(np.log(1 + df.iloc[:,4]), kde=True)\n",
    "plt.show()"
   ]
  },
  {
   "cell_type": "code",
   "execution_count": null,
   "id": "d7dfde77-0829-45d7-96bf-1d4bca66fe20",
   "metadata": {},
   "outputs": [],
   "source": []
  }
 ],
 "metadata": {
  "kernelspec": {
   "display_name": "Python 3 (ipykernel)",
   "language": "python",
   "name": "python3"
  },
  "language_info": {
   "codemirror_mode": {
    "name": "ipython",
    "version": 3
   },
   "file_extension": ".py",
   "mimetype": "text/x-python",
   "name": "python",
   "nbconvert_exporter": "python",
   "pygments_lexer": "ipython3",
   "version": "3.10.14"
  }
 },
 "nbformat": 4,
 "nbformat_minor": 5
}
