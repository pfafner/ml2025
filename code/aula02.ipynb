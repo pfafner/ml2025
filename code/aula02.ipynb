{
 "cells": [
  {
   "cell_type": "markdown",
   "id": "1f4982d0-be99-4f0d-a050-76363e9d987f",
   "metadata": {},
   "source": [
    "# <center> **Ejercicio de Simulación Variables Aleatorias** </center>\n",
    "## <font size=4> **Elements of Machine Learning 2025** </font> <font color=gray size=4> -- Alan Reyes-Figueroa </font>"
   ]
  },
  {
   "cell_type": "code",
   "execution_count": 1,
   "id": "1585a6dd-4f6b-4dc6-89cf-3fc087a2e46f",
   "metadata": {},
   "outputs": [],
   "source": [
    "import numpy as np             # cálculo numérico\n",
    "import scipy.stats as st       # estadística\n",
    "\n",
    "import matplotlib.pyplot as plt  # graficación\n",
    "import seaborn as sns            # graficación\n",
    "\n",
    "import pandas as pd            # manejo de datos y dataframes"
   ]
  },
  {
   "cell_type": "markdown",
   "id": "fa4d6832-f918-4639-8467-de472f7bd364",
   "metadata": {},
   "source": [
    "### Experimento\n",
    "\n",
    "Vamos a simular una variable aleatoria $X$ que cuenta el número de lanzamientos de una moneda con parámetro de éxito $0 \\leq p \\leq 1$ necesarios para que aparezca un 1 por primera vez. Este experimento se repetirá $N$ veces."
   ]
  },
  {
   "cell_type": "code",
   "execution_count": 2,
   "id": "73b78534-8e9d-4531-b6ad-071fdcc1d6f2",
   "metadata": {},
   "outputs": [],
   "source": [
    "# PARÁMETROS\n",
    "\n",
    "p = 0.4        # parámetro de probabilidad de éxito (0 <= p <= 1)\n",
    "N = 10000      # número de repeticiones del experimento"
   ]
  },
  {
   "cell_type": "code",
   "execution_count": 3,
   "id": "b9a7a32b-38bd-410a-9d20-79ab69f8dba3",
   "metadata": {},
   "outputs": [],
   "source": [
    "# vector para guardar la muestra de resultados de X\n",
    "sample = np.zeros(N).astype(np.uint8)"
   ]
  },
  {
   "cell_type": "code",
   "execution_count": 4,
   "id": "b75e709c-aea3-43f3-a368-7125b620fb07",
   "metadata": {},
   "outputs": [],
   "source": [
    "# EXPERIMENTO:\n",
    "\n",
    "# Repetir N veces\n",
    "for i in range(0, N):\n",
    "    fin = 0\n",
    "    count = 1\n",
    "    \n",
    "    # Repetir hasta que aparezca un 1\n",
    "    while not fin:\n",
    "        moneda = np.random.choice(2, p=[1-p,p], size=1)[0]\n",
    "        if moneda == 1:\n",
    "            fin = 1\n",
    "        else:\n",
    "            count = count + 1\n",
    "    sample[i] = count"
   ]
  },
  {
   "cell_type": "code",
   "execution_count": 5,
   "id": "89544260-0d8d-4af6-8ec1-2338b658b68b",
   "metadata": {},
   "outputs": [
    {
     "data": {
      "text/plain": [
       "array([ 6,  1,  2,  1,  2,  3,  3,  2,  4,  1,  5,  3,  2, 10,  2,  2,  2,\n",
       "        6,  1,  1,  1,  2,  1,  4,  3,  1, 10,  2,  3,  3,  2,  1,  7,  6,\n",
       "        2,  1,  5,  2,  1,  1,  5,  2,  2,  5,  1,  2,  4,  2,  2,  1,  5,\n",
       "        4,  1,  4, 12,  3,  1,  2,  2,  1,  3,  6,  1,  1,  1, 11,  7,  1,\n",
       "        2,  1,  1,  1,  2,  1,  2,  2,  1,  1,  4,  1,  2,  1,  1,  1,  2,\n",
       "        3,  1,  2,  1,  1,  2,  2,  2,  1,  2,  1,  2,  2,  2,  4],\n",
       "      dtype=uint8)"
      ]
     },
     "execution_count": 5,
     "metadata": {},
     "output_type": "execute_result"
    }
   ],
   "source": [
    "sample[:100]"
   ]
  },
  {
   "cell_type": "code",
   "execution_count": 6,
   "id": "6c86e4a3-4372-44a2-aa2f-12c543b73778",
   "metadata": {},
   "outputs": [
    {
     "data": {
      "text/plain": [
       "22"
      ]
     },
     "execution_count": 6,
     "metadata": {},
     "output_type": "execute_result"
    }
   ],
   "source": [
    "sample.max()"
   ]
  },
  {
   "cell_type": "code",
   "execution_count": 7,
   "id": "13c15be2-612f-4988-8836-ab6a31c34c5c",
   "metadata": {},
   "outputs": [
    {
     "name": "stdout",
     "output_type": "stream",
     "text": [
      "1 22\n"
     ]
    }
   ],
   "source": [
    "minn = sample.min()\n",
    "maxx = sample.max()\n",
    "print(minn, maxx)"
   ]
  },
  {
   "cell_type": "code",
   "execution_count": 8,
   "id": "85db6241-f843-4b9d-b5af-d5fb623f7913",
   "metadata": {},
   "outputs": [
    {
     "name": "stderr",
     "output_type": "stream",
     "text": [
      "/var/folders/f1/cqb0l9vj1qldx3pn1mfwcv640000gn/T/ipykernel_46758/4016852966.py:1: RuntimeWarning: overflow encountered in ubyte_scalars\n",
      "  bins = minn - maxx + 1\n"
     ]
    },
    {
     "data": {
      "text/plain": [
       "236"
      ]
     },
     "execution_count": 8,
     "metadata": {},
     "output_type": "execute_result"
    }
   ],
   "source": [
    "bins = minn - maxx + 1\n",
    "bins"
   ]
  },
  {
   "cell_type": "code",
   "execution_count": 9,
   "id": "5851c06a-b9c8-4747-8991-027a6bac65cc",
   "metadata": {},
   "outputs": [
    {
     "data": {
      "image/png": "[encoded data removed]",
      "text/plain": [
       "<Figure size 600x400 with 1 Axes>"
      ]
     },
     "metadata": {},
     "output_type": "display_data"
    }
   ],
   "source": [
    "h = np.histogram(sample, bins=bins)\n",
    "plt.figure(figsize=(6,4))\n",
    "plt.title('Histograma Normalizado')\n",
    "plt.bar(h[1][1:], h[0] / N)           # El histograma se divide entre N para obtener probabilidades (no conteos)\n",
    "plt.ylim([0,1])                       # a este le llamamos el histograma normalizado.\n",
    "plt.xticks(np.arange(minn, maxx+1))\n",
    "plt.show()"
   ]
  },
  {
   "cell_type": "markdown",
   "id": "4a3c2718-3b0a-4069-99a2-eae3244bdb6a",
   "metadata": {},
   "source": [
    "La variable aleatoria $X$ se comporta como una distribución geométrica $Geom(p)$, y la gráfica anterior nos confirma este comportamiento."
   ]
  },
  {
   "cell_type": "code",
   "execution_count": 10,
   "id": "42a1c7d2-d794-482b-9eab-5c45b71545f4",
   "metadata": {},
   "outputs": [
    {
     "data": {
      "text/plain": [
       "2.4904"
      ]
     },
     "execution_count": 10,
     "metadata": {},
     "output_type": "execute_result"
    }
   ],
   "source": [
    "sample.mean()"
   ]
  },
  {
   "cell_type": "markdown",
   "id": "63703cbe-19ac-417e-b29a-8830c4e4ac7d",
   "metadata": {},
   "source": [
    "El promedio o valor esperado de $X$ debe ser $\\mathbb{E}(X) = \\tfrac{1}{p}$."
   ]
  },
  {
   "cell_type": "code",
   "execution_count": null,
   "id": "ac6173be-b066-43db-8d14-6ebea6161d72",
   "metadata": {},
   "outputs": [],
   "source": []
  }
 ],
 "metadata": {
  "kernelspec": {
   "display_name": "Python 3 (ipykernel)",
   "language": "python",
   "name": "python3"
  },
  "language_info": {
   "codemirror_mode": {
    "name": "ipython",
    "version": 3
   },
   "file_extension": ".py",
   "mimetype": "text/x-python",
   "name": "python",
   "nbconvert_exporter": "python",
   "pygments_lexer": "ipython3",
   "version": "3.10.14"
  }
 },
 "nbformat": 4,
 "nbformat_minor": 5
}
